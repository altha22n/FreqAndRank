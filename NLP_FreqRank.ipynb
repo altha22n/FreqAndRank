{
 "cells": [
  {
   "cell_type": "code",
   "execution_count": 1,
   "metadata": {},
   "outputs": [
    {
     "data": {
      "image/png": "[encoded data removed]",
      "text/plain": [
       "<Figure size 432x288 with 1 Axes>"
      ]
     },
     "metadata": {},
     "output_type": "display_data"
    }
   ],
   "source": [
    "#Nada Al-Thawr \n",
    "#Worked with Sara, Carla, and Victoria\n",
    "\n",
    "with open(\"bigwordlist75k.txt\") as file:\n",
    "    listo = file.read()\n",
    "\n",
    "listo = listo.strip().split('\\n')\n",
    "# print (word_list)\n",
    "\n",
    "\n",
    "freq_y = [int(row.split('\\t')[1]) for row in listo]\n",
    "\n",
    "rank_x = []\n",
    "for i,rank in enumerate(freq_y,start=1):\n",
    "    rank_x.append(i)\n",
    "\n",
    "        \n",
    "# print(\"rank: \" + str(rank_x) )\n",
    "# print(\"freq: \" + str(freq_y))\n",
    "\n",
    "%matplotlib inline\n",
    "import matplotlib.pyplot as plt\n",
    "\n",
    "\n",
    "# fig = plt.figure(figsize=(30, 1))\n",
    "# ax = fig.add_subplot(111)\n",
    "plt.plot( rank_x,freq_y, 'ro')\n",
    "plt.ylabel('Frequency')\n",
    "plt.xlabel('Rank')\n",
    "plt.yscale('log')\n",
    "plt.xscale('log')\n",
    "plt.title(\"plot of frequency and rank\")\n",
    "plt.ion()\n",
    "\n",
    "plt.show()\n",
    "\n"
   ]
  },
  {
   "cell_type": "code",
   "execution_count": 88,
   "metadata": {},
   "outputs": [],
   "source": [
    "#Problem 2\n",
    "def unique_words(word_counts):\n",
    "    #we find all the single occurences of word types and add them to the count\n",
    "    count = 0\n",
    "    for word in word_counts:\n",
    "        if word_counts[word] == 1:\n",
    "            count+=1\n",
    "    return count\n"
   ]
  },
  {
   "cell_type": "code",
   "execution_count": 17,
   "metadata": {},
   "outputs": [
    {
     "name": "stdout",
     "output_type": "stream",
     "text": [
      "buffalo  buffalo  buffalo  buffalo  buffalo  buffalo  buffalo  buffalo  buffalo  buffalo  buffalo  buffalo  buffalo  buffalo  buffalo buffalo \n"
     ]
    }
   ],
   "source": [
    "#Problem 3\n",
    "#3b\n",
    "import random, numpy, sys\n",
    "\n",
    "sentence_start = 'buffalo '\n",
    "#Chose to generate random ints between 1-20 \n",
    "#because the sys.maxsize that generated any number would crash with big numbers\n",
    "random_num = random.randint(1,20)\n",
    "# print(sys.maxsize)\n",
    "i = 0\n",
    "while i < random_num:\n",
    "    sentence_start+=' buffalo '\n",
    "    i+=1\n",
    "\n",
    "words = [' buffalo buffalo ',' buffalo.']\n",
    "#found this from python documentation to be able to randomly generate these words based on their probability\n",
    "sentence_end = numpy.random.choice(words, p=[0.6,0.4])\n",
    "\n",
    "sentence = sentence_start + sentence_end\n",
    "print(sentence)\n",
    "\n",
    "    "
   ]
  },
  {
   "cell_type": "code",
   "execution_count": null,
   "metadata": {},
   "outputs": [],
   "source": []
  }
 ],
 "metadata": {
  "kernelspec": {
   "display_name": "Python 3",
   "language": "python",
   "name": "python3"
  },
  "language_info": {
   "codemirror_mode": {
    "name": "ipython",
    "version": 3
   },
   "file_extension": ".py",
   "mimetype": "text/x-python",
   "name": "python",
   "nbconvert_exporter": "python",
   "pygments_lexer": "ipython3",
   "version": "3.6.5"
  }
 },
 "nbformat": 4,
 "nbformat_minor": 2
}
